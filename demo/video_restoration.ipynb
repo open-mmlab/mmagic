{
 "cells": [
  {
   "cell_type": "code",
   "execution_count": 1,
   "metadata": {},
   "outputs": [
    {
     "name": "stdout",
     "output_type": "stream",
     "text": [
      "http loads checkpoint from path: https://download.openmmlab.com/mmediting/restorers/edvr/edvrm_wotsa_x4_8x4_600k_reds_20200522-0570e567.pth\n",
      "11/20 16:00:42 - mmengine - \u001b[4m\u001b[37mINFO\u001b[0m - Output video is save at ../resources/output/video_restoration/tutorial_video_restoration_edvr_res.mp4.\n",
      "11/20 16:00:42 - mmengine - \u001b[4m\u001b[37mINFO\u001b[0m - Postprocess is implemented in visualize process.\n"
     ]
    }
   ],
   "source": [
    "import mmcv\n",
    "import matplotlib.pyplot as plt \n",
    "import os\n",
    "from mmedit.edit import MMEdit\n",
    "from mmengine import mkdir_or_exist\n",
    "\n",
    "# Create a MMEdit instance and infer\n",
    "video = '../resources/input/video_restoration/QUuC4vJs_000084_000094_400x320.mp4'\n",
    "result_out_dir = '../resources/output/video_restoration/tutorial_video_restoration_edvr_res.mp4'\n",
    "mkdir_or_exist(os.path.dirname(result_out_dir))\n",
    "editor = MMEdit('edvr', extra_parameters={'window_size':5})\n",
    "results = editor.infer(video=video, result_out_dir=result_out_dir)"
   ]
  },
  {
   "cell_type": "code",
   "execution_count": null,
   "metadata": {},
   "outputs": [],
   "source": [
    "import mmcv\n",
    "import matplotlib.pyplot as plt \n",
    "import os\n",
    "from mmedit.edit import MMEdit\n",
    "from mmengine import mkdir_or_exist\n",
    "\n",
    "# Create a MMEdit instance and infer\n",
    "video = '../resources/input/video_restoration/QUuC4vJs_000084_000094_400x320.mp4'\n",
    "result_out_dir = '../resources/output/video_restoration/tutorial_video_restoration_edvr_res.mp4'\n",
    "mkdir_or_exist(os.path.dirname(result_out_dir))\n",
    "editor = MMEdit('edvr', extra_parameters={'window_size':5})\n",
    "results = editor.infer(video=video, result_out_dir=result_out_dir)"
   ]
  }
 ],
 "metadata": {
  "kernelspec": {
   "display_name": "Python 3.8.13 ('py38pt19cu111')",
   "language": "python",
   "name": "python3"
  },
  "language_info": {
   "codemirror_mode": {
    "name": "ipython",
    "version": 3
   },
   "file_extension": ".py",
   "mimetype": "text/x-python",
   "name": "python",
   "nbconvert_exporter": "python",
   "pygments_lexer": "ipython3",
   "version": "3.8.13"
  },
  "vscode": {
   "interpreter": {
    "hash": "cc59650aeaf0a5b1e5ddb0ea8c138097613dc74b68e66e82242be7e50dd0d685"
   }
  }
 },
 "nbformat": 4,
 "nbformat_minor": 2
}
